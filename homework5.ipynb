{
 "cells": [
  {
   "cell_type": "markdown",
   "metadata": {},
   "source": [
    "# Homework 5 (100 Points)\n",
    "\n",
    "For this homework we’ll be working with two years of the bicycle sharing systems for New York City (Citibike). The dataset contains daily bike trip counts, along with daily measurements on environmental and seasonal information that may affect the bikesharing.\n",
    "\n",
    "Here’s information on what the variables mean.\n",
    "\n",
    "- trips - daily total number of bike trips taken (all stations)\n",
    "- precipitation - daily inches of rain\n",
    "- snow_depth - daily inches of snow. Accoding to NOAA \"Determine the depth of the new and old snow remaining on the ground at observation time\".\n",
    "- snowfall - according to NOAA \"Measure and record the snowfall (snow, ice pellets ) since the previous snowfall observation (24 hours).\"\n",
    "- max_temperature - daily maximum temperature in Farenheit (highest temperature reached)\n",
    "- min_temperature - daily minimum temperature in Farenheit (lowest temperature reached)\n",
    "- average_wind_speed - measured hourly in mph and averaged for daily value\n",
    "- year \n",
    "- holiday\n",
    "    - True\n",
    "    - False\n",
    "- stations in service - docking stations working per day\n",
    "- weekday\n",
    "    - True\n",
    "    - False\n",
    "- weekday_non_holiday\n",
    "    - True\n",
    "    - False\n",
    "\n",
    "More details on snow measurements [here](https://www.weather.gov/gsp/snow)"
   ]
  },
  {
   "cell_type": "code",
   "execution_count": 1,
   "metadata": {},
   "outputs": [],
   "source": [
    "# All the libraries that we will need\n",
    "import numpy as np\n",
    "import pandas as pd\n",
    "import seaborn as sns\n",
    "from matplotlib import pyplot as plt\n",
    "import statsmodels.api as sm\n",
    "import statsmodels.formula.api as smf\n",
    "from sklearn.preprocessing import PolynomialFeatures\n",
    "import plotly.express as px\n",
    "%matplotlib inline"
   ]
  },
  {
   "cell_type": "markdown",
   "metadata": {},
   "source": [
    "### Exercise 1: Data pre-processing (16 pts)\n",
    "\n",
    "Let's start by loading and pre-processing our dataset.\n",
    "\n",
    "a) Load the `bikes` dataset into a dataframe called `bikes`, and print the first five rows [2pt]"
   ]
  },
  {
   "cell_type": "code",
   "execution_count": 2,
   "metadata": {},
   "outputs": [
    {
     "data": {
      "text/html": [
       "<div>\n",
       "<style scoped>\n",
       "    .dataframe tbody tr th:only-of-type {\n",
       "        vertical-align: middle;\n",
       "    }\n",
       "\n",
       "    .dataframe tbody tr th {\n",
       "        vertical-align: top;\n",
       "    }\n",
       "\n",
       "    .dataframe thead th {\n",
       "        text-align: right;\n",
       "    }\n",
       "</style>\n",
       "<table border=\"1\" class=\"dataframe\">\n",
       "  <thead>\n",
       "    <tr style=\"text-align: right;\">\n",
       "      <th></th>\n",
       "      <th>trips</th>\n",
       "      <th>precipitation</th>\n",
       "      <th>snow_depth</th>\n",
       "      <th>snowfall</th>\n",
       "      <th>max_temperature</th>\n",
       "      <th>min_temperature</th>\n",
       "      <th>average_wind_speed</th>\n",
       "      <th>year</th>\n",
       "      <th>season</th>\n",
       "      <th>month</th>\n",
       "      <th>holiday</th>\n",
       "      <th>stations_in_service</th>\n",
       "      <th>weekday</th>\n",
       "      <th>weekday_non_holiday</th>\n",
       "    </tr>\n",
       "  </thead>\n",
       "  <tbody>\n",
       "    <tr>\n",
       "      <th>0</th>\n",
       "      <td>20138</td>\n",
       "      <td>0.649606</td>\n",
       "      <td>0.0</td>\n",
       "      <td>0.0</td>\n",
       "      <td>75.92</td>\n",
       "      <td>66.02</td>\n",
       "      <td>2.90802</td>\n",
       "      <td>2013</td>\n",
       "      <td>summer</td>\n",
       "      <td>8</td>\n",
       "      <td>False</td>\n",
       "      <td>329</td>\n",
       "      <td>True</td>\n",
       "      <td>True</td>\n",
       "    </tr>\n",
       "    <tr>\n",
       "      <th>1</th>\n",
       "      <td>35792</td>\n",
       "      <td>0.000000</td>\n",
       "      <td>0.0</td>\n",
       "      <td>0.0</td>\n",
       "      <td>82.94</td>\n",
       "      <td>66.92</td>\n",
       "      <td>4.47387</td>\n",
       "      <td>2013</td>\n",
       "      <td>summer</td>\n",
       "      <td>8</td>\n",
       "      <td>False</td>\n",
       "      <td>329</td>\n",
       "      <td>True</td>\n",
       "      <td>True</td>\n",
       "    </tr>\n",
       "    <tr>\n",
       "      <th>2</th>\n",
       "      <td>29540</td>\n",
       "      <td>0.059055</td>\n",
       "      <td>0.0</td>\n",
       "      <td>0.0</td>\n",
       "      <td>78.08</td>\n",
       "      <td>68.00</td>\n",
       "      <td>3.35540</td>\n",
       "      <td>2013</td>\n",
       "      <td>summer</td>\n",
       "      <td>8</td>\n",
       "      <td>False</td>\n",
       "      <td>329</td>\n",
       "      <td>False</td>\n",
       "      <td>False</td>\n",
       "    </tr>\n",
       "    <tr>\n",
       "      <th>3</th>\n",
       "      <td>35253</td>\n",
       "      <td>0.000000</td>\n",
       "      <td>0.0</td>\n",
       "      <td>0.0</td>\n",
       "      <td>80.06</td>\n",
       "      <td>66.02</td>\n",
       "      <td>5.14495</td>\n",
       "      <td>2013</td>\n",
       "      <td>summer</td>\n",
       "      <td>8</td>\n",
       "      <td>False</td>\n",
       "      <td>329</td>\n",
       "      <td>False</td>\n",
       "      <td>False</td>\n",
       "    </tr>\n",
       "    <tr>\n",
       "      <th>4</th>\n",
       "      <td>36776</td>\n",
       "      <td>0.000000</td>\n",
       "      <td>0.0</td>\n",
       "      <td>0.0</td>\n",
       "      <td>78.08</td>\n",
       "      <td>62.06</td>\n",
       "      <td>3.35540</td>\n",
       "      <td>2013</td>\n",
       "      <td>summer</td>\n",
       "      <td>8</td>\n",
       "      <td>False</td>\n",
       "      <td>329</td>\n",
       "      <td>True</td>\n",
       "      <td>True</td>\n",
       "    </tr>\n",
       "  </tbody>\n",
       "</table>\n",
       "</div>"
      ],
      "text/plain": [
       "   trips  precipitation  snow_depth  snowfall  max_temperature  \\\n",
       "0  20138       0.649606         0.0       0.0            75.92   \n",
       "1  35792       0.000000         0.0       0.0            82.94   \n",
       "2  29540       0.059055         0.0       0.0            78.08   \n",
       "3  35253       0.000000         0.0       0.0            80.06   \n",
       "4  36776       0.000000         0.0       0.0            78.08   \n",
       "\n",
       "   min_temperature  average_wind_speed  year  season  month  holiday  \\\n",
       "0            66.02             2.90802  2013  summer      8    False   \n",
       "1            66.92             4.47387  2013  summer      8    False   \n",
       "2            68.00             3.35540  2013  summer      8    False   \n",
       "3            66.02             5.14495  2013  summer      8    False   \n",
       "4            62.06             3.35540  2013  summer      8    False   \n",
       "\n",
       "   stations_in_service  weekday  weekday_non_holiday  \n",
       "0                  329     True                 True  \n",
       "1                  329     True                 True  \n",
       "2                  329    False                False  \n",
       "3                  329    False                False  \n",
       "4                  329     True                 True  "
      ]
     },
     "execution_count": 2,
     "metadata": {},
     "output_type": "execute_result"
    }
   ],
   "source": [
    "# your code here\n",
    "df_bikes = pd.read_csv('C:\\\\Users\\\\JiahuiZhu\\\\Desktop\\\\BU_hw\\\\506\\hw5\\\\homework-5-JiahuiZhu666\\\\citibike.csv')\n",
    "df_bikes.head()"
   ]
  },
  {
   "cell_type": "markdown",
   "metadata": {},
   "source": [
    "b) Check that there are no missing values in your dataset. If they are, take care of them appropriately [2pt]\n"
   ]
  },
  {
   "cell_type": "code",
   "execution_count": 3,
   "metadata": {},
   "outputs": [
    {
     "data": {
      "text/plain": [
       "trips                  0\n",
       "precipitation          0\n",
       "snow_depth             0\n",
       "snowfall               0\n",
       "max_temperature        0\n",
       "min_temperature        0\n",
       "average_wind_speed     3\n",
       "year                   0\n",
       "month                  0\n",
       "holiday                0\n",
       "stations_in_service    0\n",
       "weekday                0\n",
       "weekday_non_holiday    0\n",
       "dtype: int64"
      ]
     },
     "execution_count": 3,
     "metadata": {},
     "output_type": "execute_result"
    }
   ],
   "source": [
    "# Your code here\n",
    "num_var = df_bikes.columns[df_bikes.dtypes !='object']\n",
    "cat_var = df_bikes.columns[df_bikes.dtypes =='object']\n",
    "df_bikes[num_var].isnull().sum()"
   ]
  },
  {
   "cell_type": "code",
   "execution_count": 4,
   "metadata": {},
   "outputs": [
    {
     "data": {
      "text/plain": [
       "season    0\n",
       "dtype: int64"
      ]
     },
     "execution_count": 4,
     "metadata": {},
     "output_type": "execute_result"
    }
   ],
   "source": [
    "df_bikes[cat_var].isnull().sum()"
   ]
  },
  {
   "cell_type": "code",
   "execution_count": 5,
   "metadata": {},
   "outputs": [
    {
     "data": {
      "text/plain": [
       "3"
      ]
     },
     "execution_count": 5,
     "metadata": {},
     "output_type": "execute_result"
    }
   ],
   "source": [
    "df_bikes['average_wind_speed'].isnull().sum()"
   ]
  },
  {
   "cell_type": "code",
   "execution_count": 6,
   "metadata": {},
   "outputs": [
    {
     "data": {
      "text/plain": [
       "trips                  0\n",
       "precipitation          0\n",
       "snow_depth             0\n",
       "snowfall               0\n",
       "max_temperature        0\n",
       "min_temperature        0\n",
       "average_wind_speed     3\n",
       "year                   0\n",
       "month                  0\n",
       "holiday                0\n",
       "stations_in_service    0\n",
       "weekday                0\n",
       "weekday_non_holiday    0\n",
       "dtype: int64"
      ]
     },
     "execution_count": 6,
     "metadata": {},
     "output_type": "execute_result"
    }
   ],
   "source": [
    "df_bikes.fillna(0)\n",
    "df_bikes[num_var].isnull().sum()"
   ]
  },
  {
   "cell_type": "markdown",
   "metadata": {},
   "source": [
    "c) Separate your dataset into two dataframe. One dataframe should contain the data for weekends and the other one for weekdays [4pt]"
   ]
  },
  {
   "cell_type": "code",
   "execution_count": 7,
   "metadata": {},
   "outputs": [
    {
     "data": {
      "text/html": [
       "<div>\n",
       "<style scoped>\n",
       "    .dataframe tbody tr th:only-of-type {\n",
       "        vertical-align: middle;\n",
       "    }\n",
       "\n",
       "    .dataframe tbody tr th {\n",
       "        vertical-align: top;\n",
       "    }\n",
       "\n",
       "    .dataframe thead th {\n",
       "        text-align: right;\n",
       "    }\n",
       "</style>\n",
       "<table border=\"1\" class=\"dataframe\">\n",
       "  <thead>\n",
       "    <tr style=\"text-align: right;\">\n",
       "      <th></th>\n",
       "      <th>trips</th>\n",
       "      <th>precipitation</th>\n",
       "      <th>snow_depth</th>\n",
       "      <th>snowfall</th>\n",
       "      <th>max_temperature</th>\n",
       "      <th>min_temperature</th>\n",
       "      <th>average_wind_speed</th>\n",
       "      <th>year</th>\n",
       "      <th>season</th>\n",
       "      <th>month</th>\n",
       "      <th>holiday</th>\n",
       "      <th>stations_in_service</th>\n",
       "      <th>weekday</th>\n",
       "      <th>weekday_non_holiday</th>\n",
       "    </tr>\n",
       "  </thead>\n",
       "  <tbody>\n",
       "    <tr>\n",
       "      <th>0</th>\n",
       "      <td>20138</td>\n",
       "      <td>0.649606</td>\n",
       "      <td>0.0</td>\n",
       "      <td>0.0</td>\n",
       "      <td>75.92</td>\n",
       "      <td>66.02</td>\n",
       "      <td>2.90802</td>\n",
       "      <td>2013</td>\n",
       "      <td>summer</td>\n",
       "      <td>8</td>\n",
       "      <td>False</td>\n",
       "      <td>329</td>\n",
       "      <td>1</td>\n",
       "      <td>True</td>\n",
       "    </tr>\n",
       "    <tr>\n",
       "      <th>1</th>\n",
       "      <td>35792</td>\n",
       "      <td>0.000000</td>\n",
       "      <td>0.0</td>\n",
       "      <td>0.0</td>\n",
       "      <td>82.94</td>\n",
       "      <td>66.92</td>\n",
       "      <td>4.47387</td>\n",
       "      <td>2013</td>\n",
       "      <td>summer</td>\n",
       "      <td>8</td>\n",
       "      <td>False</td>\n",
       "      <td>329</td>\n",
       "      <td>1</td>\n",
       "      <td>True</td>\n",
       "    </tr>\n",
       "    <tr>\n",
       "      <th>2</th>\n",
       "      <td>29540</td>\n",
       "      <td>0.059055</td>\n",
       "      <td>0.0</td>\n",
       "      <td>0.0</td>\n",
       "      <td>78.08</td>\n",
       "      <td>68.00</td>\n",
       "      <td>3.35540</td>\n",
       "      <td>2013</td>\n",
       "      <td>summer</td>\n",
       "      <td>8</td>\n",
       "      <td>False</td>\n",
       "      <td>329</td>\n",
       "      <td>0</td>\n",
       "      <td>False</td>\n",
       "    </tr>\n",
       "    <tr>\n",
       "      <th>3</th>\n",
       "      <td>35253</td>\n",
       "      <td>0.000000</td>\n",
       "      <td>0.0</td>\n",
       "      <td>0.0</td>\n",
       "      <td>80.06</td>\n",
       "      <td>66.02</td>\n",
       "      <td>5.14495</td>\n",
       "      <td>2013</td>\n",
       "      <td>summer</td>\n",
       "      <td>8</td>\n",
       "      <td>False</td>\n",
       "      <td>329</td>\n",
       "      <td>0</td>\n",
       "      <td>False</td>\n",
       "    </tr>\n",
       "    <tr>\n",
       "      <th>4</th>\n",
       "      <td>36776</td>\n",
       "      <td>0.000000</td>\n",
       "      <td>0.0</td>\n",
       "      <td>0.0</td>\n",
       "      <td>78.08</td>\n",
       "      <td>62.06</td>\n",
       "      <td>3.35540</td>\n",
       "      <td>2013</td>\n",
       "      <td>summer</td>\n",
       "      <td>8</td>\n",
       "      <td>False</td>\n",
       "      <td>329</td>\n",
       "      <td>1</td>\n",
       "      <td>True</td>\n",
       "    </tr>\n",
       "  </tbody>\n",
       "</table>\n",
       "</div>"
      ],
      "text/plain": [
       "   trips  precipitation  snow_depth  snowfall  max_temperature  \\\n",
       "0  20138       0.649606         0.0       0.0            75.92   \n",
       "1  35792       0.000000         0.0       0.0            82.94   \n",
       "2  29540       0.059055         0.0       0.0            78.08   \n",
       "3  35253       0.000000         0.0       0.0            80.06   \n",
       "4  36776       0.000000         0.0       0.0            78.08   \n",
       "\n",
       "   min_temperature  average_wind_speed  year  season  month  holiday  \\\n",
       "0            66.02             2.90802  2013  summer      8    False   \n",
       "1            66.92             4.47387  2013  summer      8    False   \n",
       "2            68.00             3.35540  2013  summer      8    False   \n",
       "3            66.02             5.14495  2013  summer      8    False   \n",
       "4            62.06             3.35540  2013  summer      8    False   \n",
       "\n",
       "   stations_in_service  weekday  weekday_non_holiday  \n",
       "0                  329        1                 True  \n",
       "1                  329        1                 True  \n",
       "2                  329        0                False  \n",
       "3                  329        0                False  \n",
       "4                  329        1                 True  "
      ]
     },
     "execution_count": 7,
     "metadata": {},
     "output_type": "execute_result"
    }
   ],
   "source": [
    "df_bikes['weekday']=df_bikes['weekday'].astype('int')\n",
    "df_bikes.head()"
   ]
  },
  {
   "cell_type": "code",
   "execution_count": 8,
   "metadata": {},
   "outputs": [
    {
     "data": {
      "text/html": [
       "<div>\n",
       "<style scoped>\n",
       "    .dataframe tbody tr th:only-of-type {\n",
       "        vertical-align: middle;\n",
       "    }\n",
       "\n",
       "    .dataframe tbody tr th {\n",
       "        vertical-align: top;\n",
       "    }\n",
       "\n",
       "    .dataframe thead th {\n",
       "        text-align: right;\n",
       "    }\n",
       "</style>\n",
       "<table border=\"1\" class=\"dataframe\">\n",
       "  <thead>\n",
       "    <tr style=\"text-align: right;\">\n",
       "      <th></th>\n",
       "      <th>trips</th>\n",
       "      <th>precipitation</th>\n",
       "      <th>snow_depth</th>\n",
       "      <th>snowfall</th>\n",
       "      <th>max_temperature</th>\n",
       "      <th>min_temperature</th>\n",
       "      <th>average_wind_speed</th>\n",
       "      <th>year</th>\n",
       "      <th>season</th>\n",
       "      <th>month</th>\n",
       "      <th>holiday</th>\n",
       "      <th>stations_in_service</th>\n",
       "      <th>weekday</th>\n",
       "      <th>weekday_non_holiday</th>\n",
       "    </tr>\n",
       "  </thead>\n",
       "  <tbody>\n",
       "    <tr>\n",
       "      <th>2</th>\n",
       "      <td>29540</td>\n",
       "      <td>0.059055</td>\n",
       "      <td>0.0</td>\n",
       "      <td>0.0</td>\n",
       "      <td>78.08</td>\n",
       "      <td>68.00</td>\n",
       "      <td>3.35540</td>\n",
       "      <td>2013</td>\n",
       "      <td>summer</td>\n",
       "      <td>8</td>\n",
       "      <td>False</td>\n",
       "      <td>329</td>\n",
       "      <td>0</td>\n",
       "      <td>False</td>\n",
       "    </tr>\n",
       "    <tr>\n",
       "      <th>3</th>\n",
       "      <td>35253</td>\n",
       "      <td>0.000000</td>\n",
       "      <td>0.0</td>\n",
       "      <td>0.0</td>\n",
       "      <td>80.06</td>\n",
       "      <td>66.02</td>\n",
       "      <td>5.14495</td>\n",
       "      <td>2013</td>\n",
       "      <td>summer</td>\n",
       "      <td>8</td>\n",
       "      <td>False</td>\n",
       "      <td>329</td>\n",
       "      <td>0</td>\n",
       "      <td>False</td>\n",
       "    </tr>\n",
       "    <tr>\n",
       "      <th>9</th>\n",
       "      <td>37201</td>\n",
       "      <td>0.000000</td>\n",
       "      <td>0.0</td>\n",
       "      <td>0.0</td>\n",
       "      <td>82.94</td>\n",
       "      <td>69.98</td>\n",
       "      <td>4.92126</td>\n",
       "      <td>2013</td>\n",
       "      <td>summer</td>\n",
       "      <td>8</td>\n",
       "      <td>False</td>\n",
       "      <td>329</td>\n",
       "      <td>0</td>\n",
       "      <td>False</td>\n",
       "    </tr>\n",
       "    <tr>\n",
       "      <th>10</th>\n",
       "      <td>33060</td>\n",
       "      <td>0.000000</td>\n",
       "      <td>0.0</td>\n",
       "      <td>0.0</td>\n",
       "      <td>80.96</td>\n",
       "      <td>64.94</td>\n",
       "      <td>2.46063</td>\n",
       "      <td>2013</td>\n",
       "      <td>summer</td>\n",
       "      <td>8</td>\n",
       "      <td>False</td>\n",
       "      <td>329</td>\n",
       "      <td>0</td>\n",
       "      <td>False</td>\n",
       "    </tr>\n",
       "    <tr>\n",
       "      <th>16</th>\n",
       "      <td>37285</td>\n",
       "      <td>0.000000</td>\n",
       "      <td>0.0</td>\n",
       "      <td>0.0</td>\n",
       "      <td>84.02</td>\n",
       "      <td>64.04</td>\n",
       "      <td>2.01324</td>\n",
       "      <td>2013</td>\n",
       "      <td>summer</td>\n",
       "      <td>8</td>\n",
       "      <td>False</td>\n",
       "      <td>329</td>\n",
       "      <td>0</td>\n",
       "      <td>False</td>\n",
       "    </tr>\n",
       "  </tbody>\n",
       "</table>\n",
       "</div>"
      ],
      "text/plain": [
       "    trips  precipitation  snow_depth  snowfall  max_temperature  \\\n",
       "2   29540       0.059055         0.0       0.0            78.08   \n",
       "3   35253       0.000000         0.0       0.0            80.06   \n",
       "9   37201       0.000000         0.0       0.0            82.94   \n",
       "10  33060       0.000000         0.0       0.0            80.96   \n",
       "16  37285       0.000000         0.0       0.0            84.02   \n",
       "\n",
       "    min_temperature  average_wind_speed  year  season  month  holiday  \\\n",
       "2             68.00             3.35540  2013  summer      8    False   \n",
       "3             66.02             5.14495  2013  summer      8    False   \n",
       "9             69.98             4.92126  2013  summer      8    False   \n",
       "10            64.94             2.46063  2013  summer      8    False   \n",
       "16            64.04             2.01324  2013  summer      8    False   \n",
       "\n",
       "    stations_in_service  weekday  weekday_non_holiday  \n",
       "2                   329        0                False  \n",
       "3                   329        0                False  \n",
       "9                   329        0                False  \n",
       "10                  329        0                False  \n",
       "16                  329        0                False  "
      ]
     },
     "execution_count": 8,
     "metadata": {},
     "output_type": "execute_result"
    }
   ],
   "source": [
    "# Your code here\n",
    "grouped = df_bikes.groupby('weekday')\n",
    "df_weekends = grouped.get_group(0)\n",
    "df_weekdays = grouped.get_group(1)\n",
    "df_weekends.head()"
   ]
  },
  {
   "cell_type": "code",
   "execution_count": 9,
   "metadata": {},
   "outputs": [
    {
     "data": {
      "text/html": [
       "<div>\n",
       "<style scoped>\n",
       "    .dataframe tbody tr th:only-of-type {\n",
       "        vertical-align: middle;\n",
       "    }\n",
       "\n",
       "    .dataframe tbody tr th {\n",
       "        vertical-align: top;\n",
       "    }\n",
       "\n",
       "    .dataframe thead th {\n",
       "        text-align: right;\n",
       "    }\n",
       "</style>\n",
       "<table border=\"1\" class=\"dataframe\">\n",
       "  <thead>\n",
       "    <tr style=\"text-align: right;\">\n",
       "      <th></th>\n",
       "      <th>trips</th>\n",
       "      <th>precipitation</th>\n",
       "      <th>snow_depth</th>\n",
       "      <th>snowfall</th>\n",
       "      <th>max_temperature</th>\n",
       "      <th>min_temperature</th>\n",
       "      <th>average_wind_speed</th>\n",
       "      <th>year</th>\n",
       "      <th>season</th>\n",
       "      <th>month</th>\n",
       "      <th>holiday</th>\n",
       "      <th>stations_in_service</th>\n",
       "      <th>weekday</th>\n",
       "      <th>weekday_non_holiday</th>\n",
       "    </tr>\n",
       "  </thead>\n",
       "  <tbody>\n",
       "    <tr>\n",
       "      <th>0</th>\n",
       "      <td>20138</td>\n",
       "      <td>0.649606</td>\n",
       "      <td>0.0</td>\n",
       "      <td>0.0</td>\n",
       "      <td>75.92</td>\n",
       "      <td>66.02</td>\n",
       "      <td>2.90802</td>\n",
       "      <td>2013</td>\n",
       "      <td>summer</td>\n",
       "      <td>8</td>\n",
       "      <td>False</td>\n",
       "      <td>329</td>\n",
       "      <td>1</td>\n",
       "      <td>True</td>\n",
       "    </tr>\n",
       "    <tr>\n",
       "      <th>1</th>\n",
       "      <td>35792</td>\n",
       "      <td>0.000000</td>\n",
       "      <td>0.0</td>\n",
       "      <td>0.0</td>\n",
       "      <td>82.94</td>\n",
       "      <td>66.92</td>\n",
       "      <td>4.47387</td>\n",
       "      <td>2013</td>\n",
       "      <td>summer</td>\n",
       "      <td>8</td>\n",
       "      <td>False</td>\n",
       "      <td>329</td>\n",
       "      <td>1</td>\n",
       "      <td>True</td>\n",
       "    </tr>\n",
       "    <tr>\n",
       "      <th>4</th>\n",
       "      <td>36776</td>\n",
       "      <td>0.000000</td>\n",
       "      <td>0.0</td>\n",
       "      <td>0.0</td>\n",
       "      <td>78.08</td>\n",
       "      <td>62.06</td>\n",
       "      <td>3.35540</td>\n",
       "      <td>2013</td>\n",
       "      <td>summer</td>\n",
       "      <td>8</td>\n",
       "      <td>False</td>\n",
       "      <td>329</td>\n",
       "      <td>1</td>\n",
       "      <td>True</td>\n",
       "    </tr>\n",
       "    <tr>\n",
       "      <th>5</th>\n",
       "      <td>37702</td>\n",
       "      <td>0.000000</td>\n",
       "      <td>0.0</td>\n",
       "      <td>0.0</td>\n",
       "      <td>82.04</td>\n",
       "      <td>64.04</td>\n",
       "      <td>2.68432</td>\n",
       "      <td>2013</td>\n",
       "      <td>summer</td>\n",
       "      <td>8</td>\n",
       "      <td>False</td>\n",
       "      <td>329</td>\n",
       "      <td>1</td>\n",
       "      <td>True</td>\n",
       "    </tr>\n",
       "    <tr>\n",
       "      <th>6</th>\n",
       "      <td>34396</td>\n",
       "      <td>0.000000</td>\n",
       "      <td>0.0</td>\n",
       "      <td>0.0</td>\n",
       "      <td>80.06</td>\n",
       "      <td>69.98</td>\n",
       "      <td>5.14495</td>\n",
       "      <td>2013</td>\n",
       "      <td>summer</td>\n",
       "      <td>8</td>\n",
       "      <td>False</td>\n",
       "      <td>329</td>\n",
       "      <td>1</td>\n",
       "      <td>True</td>\n",
       "    </tr>\n",
       "  </tbody>\n",
       "</table>\n",
       "</div>"
      ],
      "text/plain": [
       "   trips  precipitation  snow_depth  snowfall  max_temperature  \\\n",
       "0  20138       0.649606         0.0       0.0            75.92   \n",
       "1  35792       0.000000         0.0       0.0            82.94   \n",
       "4  36776       0.000000         0.0       0.0            78.08   \n",
       "5  37702       0.000000         0.0       0.0            82.04   \n",
       "6  34396       0.000000         0.0       0.0            80.06   \n",
       "\n",
       "   min_temperature  average_wind_speed  year  season  month  holiday  \\\n",
       "0            66.02             2.90802  2013  summer      8    False   \n",
       "1            66.92             4.47387  2013  summer      8    False   \n",
       "4            62.06             3.35540  2013  summer      8    False   \n",
       "5            64.04             2.68432  2013  summer      8    False   \n",
       "6            69.98             5.14495  2013  summer      8    False   \n",
       "\n",
       "   stations_in_service  weekday  weekday_non_holiday  \n",
       "0                  329        1                 True  \n",
       "1                  329        1                 True  \n",
       "4                  329        1                 True  \n",
       "5                  329        1                 True  \n",
       "6                  329        1                 True  "
      ]
     },
     "execution_count": 9,
     "metadata": {},
     "output_type": "execute_result"
    }
   ],
   "source": [
    "df_weekdays.head()"
   ]
  },
  {
   "cell_type": "markdown",
   "metadata": {},
   "source": [
    "d) Let's look at the number of bicycle rental (trips) per season! Draw a boxplot that displays this information for the whole dataset. As subplots, draw the boxplots for weekdays and weekends. Is there a differece in the distribution of trips between seasons? Is there a difference between weekdays and weekends? Explain. [8pts]"
   ]
  },
  {
   "cell_type": "code",
   "execution_count": 30,
   "metadata": {},
   "outputs": [
    {
     "data": {
      "image/png": "[encoded data removed]",
      "text/plain": [
       "<Figure size 432x288 with 1 Axes>"
      ]
     },
     "metadata": {
      "needs_background": "light"
     },
     "output_type": "display_data"
    }
   ],
   "source": [
    "# Your code here\n",
    "ax_weekdays = sns.boxplot(x=\"season\",y=\"trips\",data=df_weekdays)"
   ]
  },
  {
   "cell_type": "code",
   "execution_count": 31,
   "metadata": {},
   "outputs": [
    {
     "data": {
      "image/png": "[encoded data removed]",
      "text/plain": [
       "<Figure size 432x288 with 1 Axes>"
      ]
     },
     "metadata": {
      "needs_background": "light"
     },
     "output_type": "display_data"
    }
   ],
   "source": [
    "ax_weekends = sns.boxplot(x=\"season\",y=\"trips\",data=df_weekends)"
   ]
  },
  {
   "cell_type": "code",
   "execution_count": 141,
   "metadata": {},
   "outputs": [
    {
     "data": {
      "image/png": "[encoded data removed]",
      "text/plain": [
       "<Figure size 432x288 with 1 Axes>"
      ]
     },
     "metadata": {
      "needs_background": "light"
     },
     "output_type": "display_data"
    }
   ],
   "source": [
    "ax = sns.boxplot(x=df_weekdays[\"trips\"])"
   ]
  },
  {
   "cell_type": "code",
   "execution_count": 143,
   "metadata": {},
   "outputs": [
    {
     "data": {
      "image/png": "[encoded data removed]",
      "text/plain": [
       "<Figure size 432x288 with 1 Axes>"
      ]
     },
     "metadata": {
      "needs_background": "light"
     },
     "output_type": "display_data"
    }
   ],
   "source": [
    "ax = sns.boxplot(x=df_weekends[\"trips\"])"
   ]
  },
  {
   "cell_type": "markdown",
   "metadata": {},
   "source": [
    "--> Your answer here\n",
    "# Difference\n",
    "1. Yes. Distribution sppears among seasons, during summer and fall, the number of trips is larger than number during spring and winter\n",
    "2. Yes, according to the boxplot, for the maxium and medium number of trips, weekdays are larger than weeknds."
   ]
  },
  {
   "cell_type": "markdown",
   "metadata": {},
   "source": [
    "## Exercise 2: Qualitative predictors (18 pts)\n",
    "\n",
    "The Season variable is an example of what’s called a categorical predictor. This problem gets to fit a model with a qualitative predictor and to interpret the findings.\n",
    "\n",
    "a) Fit a linear regression model with trips as the response variable and season as your predictor, and print the summary of this linear regression model. Use your weekdays dataset [4pt]\n"
   ]
  },
  {
   "cell_type": "code",
   "execution_count": 10,
   "metadata": {},
   "outputs": [],
   "source": [
    "import statsmodels.formula.api as smf\n",
    "from sklearn.linear_model import LogisticRegression\n",
    "from sklearn.model_selection import train_test_split\n",
    "from sklearn.metrics import accuracy_score, confusion_matrix"
   ]
  },
  {
   "cell_type": "code",
   "execution_count": 11,
   "metadata": {
    "scrolled": false
   },
   "outputs": [
    {
     "name": "stdout",
     "output_type": "stream",
     "text": [
      "                            OLS Regression Results                            \n",
      "==============================================================================\n",
      "Dep. Variable:                  trips   R-squared:                       0.279\n",
      "Model:                            OLS   Adj. R-squared:                  0.278\n",
      "Method:                 Least Squares   F-statistic:                     234.6\n",
      "Date:                Mon, 11 Apr 2022   Prob (F-statistic):           5.22e-45\n",
      "Time:                        16:06:09   Log-Likelihood:                -6487.2\n",
      "No. Observations:                 608   AIC:                         1.298e+04\n",
      "Df Residuals:                     606   BIC:                         1.299e+04\n",
      "Df Model:                           1                                         \n",
      "Covariance Type:            nonrobust                                         \n",
      "==============================================================================\n",
      "                 coef    std err          t      P>|t|      [0.025      0.975]\n",
      "------------------------------------------------------------------------------\n",
      "const       3.498e+04    688.891     50.775      0.000    3.36e+04    3.63e+04\n",
      "season     -5993.1080    391.243    -15.318      0.000   -6761.465   -5224.751\n",
      "==============================================================================\n",
      "Omnibus:                       11.724   Durbin-Watson:                   0.412\n",
      "Prob(Omnibus):                  0.003   Jarque-Bera (JB):                6.936\n",
      "Skew:                          -0.058   Prob(JB):                       0.0312\n",
      "Kurtosis:                       2.490   Cond. No.                         3.51\n",
      "==============================================================================\n",
      "\n",
      "Notes:\n",
      "[1] Standard Errors assume that the covariance matrix of the errors is correctly specified.\n"
     ]
    },
    {
     "name": "stderr",
     "output_type": "stream",
     "text": [
      "D:\\Anaconda3\\envs\\torch\\lib\\site-packages\\ipykernel_launcher.py:1: SettingWithCopyWarning: \n",
      "A value is trying to be set on a copy of a slice from a DataFrame.\n",
      "Try using .loc[row_indexer,col_indexer] = value instead\n",
      "\n",
      "See the caveats in the documentation: https://pandas.pydata.org/pandas-docs/stable/user_guide/indexing.html#returning-a-view-versus-a-copy\n",
      "  \"\"\"Entry point for launching an IPython kernel.\n"
     ]
    }
   ],
   "source": [
    "df_weekdays['season'] = pd.factorize(df_weekdays['season'])[0]\n",
    "# y = df_weekdays.loc[:,'trips']\n",
    "# X = df_weekdays.loc[:,'season']\n",
    "# X = pd.get_dummies(X).values\n",
    "\n",
    "# X1 = []\n",
    "# for i in range(len(X)):\n",
    "#     if X[i][0]==1:\n",
    "#         X1.append(1)\n",
    "#     if X[i][1]==1:\n",
    "#         X1.append(2)\n",
    "#     if X[i][2]==1:\n",
    "#         y1.append(3)\n",
    "#     if X[i][3]==1:\n",
    "#         X1.append(4)\n",
    "        \n",
    "Y = df_weekdays[['trips']]\n",
    "X = df_weekdays[['season']]\n",
    "X = sm.add_constant(X)\n",
    "model_weekdays = sm.OLS(Y,X)\n",
    "res_weekdays = model_weekdays.fit()\n",
    "res_weekdays.params\n",
    "print(res_weekdays.summary())"
   ]
  },
  {
   "cell_type": "markdown",
   "metadata": {},
   "source": [
    "b) How many total coefficients are there in the model? What does each coefficient correspond to? [4pt]"
   ]
  },
  {
   "cell_type": "code",
   "execution_count": 149,
   "metadata": {},
   "outputs": [
    {
     "name": "stdout",
     "output_type": "stream",
     "text": [
      "const     34978.676395\n",
      "season    -5993.107986\n",
      "dtype: float64\n"
     ]
    }
   ],
   "source": [
    "print(res_weekdays.params)"
   ]
  },
  {
   "cell_type": "markdown",
   "metadata": {},
   "source": [
    "--> *Your answer here*\n",
    "\n",
    "There are two coefficients in the model. \n",
    "1. const means the interceptor \n",
    "2. season is the variable"
   ]
  },
  {
   "cell_type": "markdown",
   "metadata": {},
   "source": [
    "c) Interpret the coefficients of season in the model. Make sure to use an example in your interpretation, related to the bikes [4pt]"
   ]
  },
  {
   "cell_type": "code",
   "execution_count": 156,
   "metadata": {},
   "outputs": [
    {
     "data": {
      "text/html": [
       "<div>\n",
       "<style scoped>\n",
       "    .dataframe tbody tr th:only-of-type {\n",
       "        vertical-align: middle;\n",
       "    }\n",
       "\n",
       "    .dataframe tbody tr th {\n",
       "        vertical-align: top;\n",
       "    }\n",
       "\n",
       "    .dataframe thead th {\n",
       "        text-align: right;\n",
       "    }\n",
       "</style>\n",
       "<table border=\"1\" class=\"dataframe\">\n",
       "  <thead>\n",
       "    <tr style=\"text-align: right;\">\n",
       "      <th></th>\n",
       "      <th>trips</th>\n",
       "      <th>precipitation</th>\n",
       "      <th>snow_depth</th>\n",
       "      <th>snowfall</th>\n",
       "      <th>max_temperature</th>\n",
       "      <th>min_temperature</th>\n",
       "      <th>average_wind_speed</th>\n",
       "      <th>year</th>\n",
       "      <th>season</th>\n",
       "      <th>month</th>\n",
       "      <th>holiday</th>\n",
       "      <th>stations_in_service</th>\n",
       "      <th>weekday</th>\n",
       "      <th>weekday_non_holiday</th>\n",
       "    </tr>\n",
       "  </thead>\n",
       "  <tbody>\n",
       "    <tr>\n",
       "      <th>0</th>\n",
       "      <td>20138</td>\n",
       "      <td>0.649606</td>\n",
       "      <td>0.0</td>\n",
       "      <td>0.0</td>\n",
       "      <td>75.92</td>\n",
       "      <td>66.02</td>\n",
       "      <td>2.90802</td>\n",
       "      <td>2013</td>\n",
       "      <td>0</td>\n",
       "      <td>8</td>\n",
       "      <td>False</td>\n",
       "      <td>329</td>\n",
       "      <td>1</td>\n",
       "      <td>True</td>\n",
       "    </tr>\n",
       "    <tr>\n",
       "      <th>1</th>\n",
       "      <td>35792</td>\n",
       "      <td>0.000000</td>\n",
       "      <td>0.0</td>\n",
       "      <td>0.0</td>\n",
       "      <td>82.94</td>\n",
       "      <td>66.92</td>\n",
       "      <td>4.47387</td>\n",
       "      <td>2013</td>\n",
       "      <td>0</td>\n",
       "      <td>8</td>\n",
       "      <td>False</td>\n",
       "      <td>329</td>\n",
       "      <td>1</td>\n",
       "      <td>True</td>\n",
       "    </tr>\n",
       "    <tr>\n",
       "      <th>4</th>\n",
       "      <td>36776</td>\n",
       "      <td>0.000000</td>\n",
       "      <td>0.0</td>\n",
       "      <td>0.0</td>\n",
       "      <td>78.08</td>\n",
       "      <td>62.06</td>\n",
       "      <td>3.35540</td>\n",
       "      <td>2013</td>\n",
       "      <td>0</td>\n",
       "      <td>8</td>\n",
       "      <td>False</td>\n",
       "      <td>329</td>\n",
       "      <td>1</td>\n",
       "      <td>True</td>\n",
       "    </tr>\n",
       "    <tr>\n",
       "      <th>5</th>\n",
       "      <td>37702</td>\n",
       "      <td>0.000000</td>\n",
       "      <td>0.0</td>\n",
       "      <td>0.0</td>\n",
       "      <td>82.04</td>\n",
       "      <td>64.04</td>\n",
       "      <td>2.68432</td>\n",
       "      <td>2013</td>\n",
       "      <td>0</td>\n",
       "      <td>8</td>\n",
       "      <td>False</td>\n",
       "      <td>329</td>\n",
       "      <td>1</td>\n",
       "      <td>True</td>\n",
       "    </tr>\n",
       "    <tr>\n",
       "      <th>6</th>\n",
       "      <td>34396</td>\n",
       "      <td>0.000000</td>\n",
       "      <td>0.0</td>\n",
       "      <td>0.0</td>\n",
       "      <td>80.06</td>\n",
       "      <td>69.98</td>\n",
       "      <td>5.14495</td>\n",
       "      <td>2013</td>\n",
       "      <td>0</td>\n",
       "      <td>8</td>\n",
       "      <td>False</td>\n",
       "      <td>329</td>\n",
       "      <td>1</td>\n",
       "      <td>True</td>\n",
       "    </tr>\n",
       "  </tbody>\n",
       "</table>\n",
       "</div>"
      ],
      "text/plain": [
       "   trips  precipitation  snow_depth  snowfall  max_temperature  \\\n",
       "0  20138       0.649606         0.0       0.0            75.92   \n",
       "1  35792       0.000000         0.0       0.0            82.94   \n",
       "4  36776       0.000000         0.0       0.0            78.08   \n",
       "5  37702       0.000000         0.0       0.0            82.04   \n",
       "6  34396       0.000000         0.0       0.0            80.06   \n",
       "\n",
       "   min_temperature  average_wind_speed  year  season  month  holiday  \\\n",
       "0            66.02             2.90802  2013       0      8    False   \n",
       "1            66.92             4.47387  2013       0      8    False   \n",
       "4            62.06             3.35540  2013       0      8    False   \n",
       "5            64.04             2.68432  2013       0      8    False   \n",
       "6            69.98             5.14495  2013       0      8    False   \n",
       "\n",
       "   stations_in_service  weekday  weekday_non_holiday  \n",
       "0                  329        1                 True  \n",
       "1                  329        1                 True  \n",
       "4                  329        1                 True  \n",
       "5                  329        1                 True  \n",
       "6                  329        1                 True  "
      ]
     },
     "execution_count": 156,
     "metadata": {},
     "output_type": "execute_result"
    }
   ],
   "source": [
    "df_weekdays.head()"
   ]
  },
  {
   "cell_type": "markdown",
   "metadata": {},
   "source": [
    "--> *Your answer here*\n",
    "\n",
    "Let's use the data of row 1, using coefficientsof the model, we get trips: -5993 * 0 + 34978 = 34978, which is near to the real value 35972. The coeffiencts of season is negative means that when parameter of season gets larger the trips become smaller."
   ]
  },
  {
   "cell_type": "markdown",
   "metadata": {},
   "source": [
    "d) Repeat a) -> c) with your weekends dataset. What difference can you see? [6pt]"
   ]
  },
  {
   "cell_type": "code",
   "execution_count": 12,
   "metadata": {},
   "outputs": [
    {
     "name": "stdout",
     "output_type": "stream",
     "text": [
      "                            OLS Regression Results                            \n",
      "==============================================================================\n",
      "Dep. Variable:                  trips   R-squared:                       0.284\n",
      "Model:                            OLS   Adj. R-squared:                  0.281\n",
      "Method:                 Least Squares   F-statistic:                     95.91\n",
      "Date:                Mon, 11 Apr 2022   Prob (F-statistic):           2.73e-19\n",
      "Time:                        16:06:15   Log-Likelihood:                -2561.2\n",
      "No. Observations:                 244   AIC:                             5126.\n",
      "Df Residuals:                     242   BIC:                             5133.\n",
      "Df Model:                           1                                         \n",
      "Covariance Type:            nonrobust                                         \n",
      "==============================================================================\n",
      "                 coef    std err          t      P>|t|      [0.025      0.975]\n",
      "------------------------------------------------------------------------------\n",
      "const       2.838e+04    913.531     31.068      0.000    2.66e+04    3.02e+04\n",
      "season     -5055.9555    516.264     -9.793      0.000   -6072.899   -4039.012\n",
      "==============================================================================\n",
      "Omnibus:                       21.725   Durbin-Watson:                   0.376\n",
      "Prob(Omnibus):                  0.000   Jarque-Bera (JB):                7.328\n",
      "Skew:                           0.009   Prob(JB):                       0.0256\n",
      "Kurtosis:                       2.151   Cond. No.                         3.50\n",
      "==============================================================================\n",
      "\n",
      "Notes:\n",
      "[1] Standard Errors assume that the covariance matrix of the errors is correctly specified.\n"
     ]
    },
    {
     "name": "stderr",
     "output_type": "stream",
     "text": [
      "D:\\Anaconda3\\envs\\torch\\lib\\site-packages\\ipykernel_launcher.py:2: SettingWithCopyWarning: \n",
      "A value is trying to be set on a copy of a slice from a DataFrame.\n",
      "Try using .loc[row_indexer,col_indexer] = value instead\n",
      "\n",
      "See the caveats in the documentation: https://pandas.pydata.org/pandas-docs/stable/user_guide/indexing.html#returning-a-view-versus-a-copy\n",
      "  \n"
     ]
    }
   ],
   "source": [
    "# Your code here\n",
    "df_weekends['season'] = pd.factorize(df_weekends['season'])[0]\n",
    "Y = df_weekends[['trips']]\n",
    "X = df_weekends[['season']]\n",
    "X = sm.add_constant(X)\n",
    "model_weekends = sm.OLS(Y,X)\n",
    "res_weekends = model_weekends.fit()\n",
    "res_weekends.params\n",
    "print(res_weekends.summary())"
   ]
  },
  {
   "cell_type": "markdown",
   "metadata": {},
   "source": [
    "--> *Your answer here*\n",
    "\n",
    "The coefficients of season is bigger than weekdays, which means that the slope of line for weekdays is bigger than weeknds. Therefore, we canknow that the season has a bigger influence during weekdays than weeknds."
   ]
  },
  {
   "cell_type": "markdown",
   "metadata": {},
   "source": [
    "## Exercise 3: Multiple linear regression (16 pts)\n",
    "\n",
    "In this problem we’ll practice fitting and interpreting the results of a multiple linear regression. For this question use the weekdays dataset.\n",
    "\n",
    "a) Fit a regression model with trips as the response variable and the following predictors as features: snow_depth, snowfall, min_temperature, max_temperature, precipitation, month [4pt]\n"
   ]
  },
  {
   "cell_type": "code",
   "execution_count": 159,
   "metadata": {},
   "outputs": [
    {
     "name": "stdout",
     "output_type": "stream",
     "text": [
      "                            OLS Regression Results                            \n",
      "==============================================================================\n",
      "Dep. Variable:                  trips   R-squared:                       0.768\n",
      "Model:                            OLS   Adj. R-squared:                  0.766\n",
      "Method:                 Least Squares   F-statistic:                     332.2\n",
      "Date:                Fri, 08 Apr 2022   Prob (F-statistic):          3.70e-187\n",
      "Time:                        15:17:18   Log-Likelihood:                -6142.1\n",
      "No. Observations:                 608   AIC:                         1.230e+04\n",
      "Df Residuals:                     601   BIC:                         1.233e+04\n",
      "Df Model:                           6                                         \n",
      "Covariance Type:            nonrobust                                         \n",
      "===================================================================================\n",
      "                      coef    std err          t      P>|t|      [0.025      0.975]\n",
      "-----------------------------------------------------------------------------------\n",
      "const           -5252.4304   1205.888     -4.356      0.000   -7620.697   -2884.164\n",
      "snow_depth       -280.4113     95.684     -2.931      0.004    -468.328     -92.495\n",
      "snowfall          -71.3863    291.702     -0.245      0.807    -644.265     501.492\n",
      "min_temperature   -11.1556     54.784     -0.204      0.839    -118.748      96.437\n",
      "max_temperature   460.9413     50.620      9.106      0.000     361.527     560.356\n",
      "precipitation   -8226.5494    658.545    -12.492      0.000   -9519.878   -6933.221\n",
      "month             661.0439     82.648      7.998      0.000     498.730     823.357\n",
      "==============================================================================\n",
      "Omnibus:                       33.157   Durbin-Watson:                   0.758\n",
      "Prob(Omnibus):                  0.000   Jarque-Bera (JB):               90.598\n",
      "Skew:                           0.205   Prob(JB):                     2.12e-20\n",
      "Kurtosis:                       4.846   Cond. No.                         425.\n",
      "==============================================================================\n",
      "\n",
      "Notes:\n",
      "[1] Standard Errors assume that the covariance matrix of the errors is correctly specified.\n"
     ]
    }
   ],
   "source": [
    "# Your code here\n",
    "X = df_weekdays[['snow_depth', 'snowfall', 'min_temperature', 'max_temperature', 'precipitation', 'month']]\n",
    "Y = df_weekdays[['trips']]\n",
    "X = sm.add_constant(X)\n",
    "model_weekdays = sm.OLS(Y,X)\n",
    "res_weekdays = model_weekdays.fit()\n",
    "print(res_weekdays.summary())"
   ]
  },
  {
   "cell_type": "markdown",
   "metadata": {},
   "source": [
    "b) Interpret the coefficients of snow_depth, snowfall, min_temperature, max_temperature, precipitation, month in the model [4pt]"
   ]
  },
  {
   "cell_type": "code",
   "execution_count": 161,
   "metadata": {
    "scrolled": false
   },
   "outputs": [
    {
     "data": {
      "text/plain": [
       "const             -5252.430415\n",
       "snow_depth         -280.411273\n",
       "snowfall            -71.386311\n",
       "min_temperature     -11.155632\n",
       "max_temperature     460.941314\n",
       "precipitation     -8226.549392\n",
       "month               661.043852\n",
       "dtype: float64"
      ]
     },
     "execution_count": 161,
     "metadata": {},
     "output_type": "execute_result"
    }
   ],
   "source": [
    "res_weekdays.params"
   ]
  },
  {
   "cell_type": "markdown",
   "metadata": {},
   "source": [
    "--> *Your answer here*\n",
    "\n",
    "The positive coefficient means that this variable is proportional to trips. Take max_temperature as an example, a higher temperature shows that there will be more bike trips. This matches the result that during summer, there are more trips. The negative coefficients means that the relation is inversely proportional. For example, the larger snow fall, the less trips."
   ]
  },
  {
   "cell_type": "markdown",
   "metadata": {},
   "source": [
    "c) Re-run the model from 3)a) but add another predictor of your choice. Justify your choice of predictor. Did this make any difference? Did the R-squared of the model improve? [4pt]"
   ]
  },
  {
   "cell_type": "code",
   "execution_count": 162,
   "metadata": {},
   "outputs": [
    {
     "name": "stdout",
     "output_type": "stream",
     "text": [
      "                            OLS Regression Results                            \n",
      "==============================================================================\n",
      "Dep. Variable:                  trips   R-squared:                       0.845\n",
      "Model:                            OLS   Adj. R-squared:                  0.843\n",
      "Method:                 Least Squares   F-statistic:                     466.7\n",
      "Date:                Fri, 08 Apr 2022   Prob (F-statistic):          5.29e-238\n",
      "Time:                        15:38:28   Log-Likelihood:                -6020.2\n",
      "No. Observations:                 608   AIC:                         1.206e+04\n",
      "Df Residuals:                     600   BIC:                         1.209e+04\n",
      "Df Model:                           7                                         \n",
      "Covariance Type:            nonrobust                                         \n",
      "=======================================================================================\n",
      "                          coef    std err          t      P>|t|      [0.025      0.975]\n",
      "---------------------------------------------------------------------------------------\n",
      "const               -3.126e+04   1806.228    -17.309      0.000   -3.48e+04   -2.77e+04\n",
      "snow_depth           -324.3071     78.413     -4.136      0.000    -478.305    -170.310\n",
      "snowfall             -127.4512    238.944     -0.533      0.594    -596.720     341.818\n",
      "min_temperature        37.8289     44.962      0.841      0.400     -50.473     126.131\n",
      "max_temperature       409.1487     41.571      9.842      0.000     327.507     490.790\n",
      "precipitation       -8180.5976    539.396    -15.166      0.000   -9239.932   -7121.263\n",
      "month                 299.5397     70.881      4.226      0.000     160.334     438.745\n",
      "stations_in_service    85.5674      4.975     17.201      0.000      75.797      95.337\n",
      "==============================================================================\n",
      "Omnibus:                      103.575   Durbin-Watson:                   1.106\n",
      "Prob(Omnibus):                  0.000   Jarque-Bera (JB):              310.792\n",
      "Skew:                          -0.816   Prob(JB):                     3.25e-68\n",
      "Kurtosis:                       6.099   Cond. No.                     3.26e+03\n",
      "==============================================================================\n",
      "\n",
      "Notes:\n",
      "[1] Standard Errors assume that the covariance matrix of the errors is correctly specified.\n",
      "[2] The condition number is large, 3.26e+03. This might indicate that there are\n",
      "strong multicollinearity or other numerical problems.\n"
     ]
    }
   ],
   "source": [
    "# Your code here\n",
    "X = df_weekdays[['snow_depth', 'snowfall', 'min_temperature', 'max_temperature', 'precipitation', 'month', \n",
    "                    'stations_in_service']]\n",
    "Y = df_weekdays[['trips']]\n",
    "X = sm.add_constant(X)\n",
    "model_weekdays = sm.OLS(Y,X)\n",
    "results_weekdays = model_weekdays.fit()\n",
    "print(results_weekdays.summary())"
   ]
  },
  {
   "cell_type": "markdown",
   "metadata": {},
   "source": [
    "--> *Your answer here*"
   ]
  },
  {
   "cell_type": "markdown",
   "metadata": {},
   "source": [
    "d) From c) which predictors are associated with increased ridership? Which predictors are associated with decreased ridership? [2pt]\n",
    "\n",
    "###  Increase: max_temperature, month, stations in service, min_temperature\n",
    "###  Decrease: snow depth, precipitation"
   ]
  },
  {
   "cell_type": "markdown",
   "metadata": {},
   "source": [
    "--> *Your answer here*"
   ]
  },
  {
   "cell_type": "markdown",
   "metadata": {},
   "source": [
    "e) Which predictors are statistically significant (95% confidence level)? [2pt]"
   ]
  },
  {
   "cell_type": "markdown",
   "metadata": {},
   "source": [
    "--> *Your answer here*"
   ]
  },
  {
   "cell_type": "code",
   "execution_count": 163,
   "metadata": {},
   "outputs": [
    {
     "data": {
      "text/html": [
       "<div>\n",
       "<style scoped>\n",
       "    .dataframe tbody tr th:only-of-type {\n",
       "        vertical-align: middle;\n",
       "    }\n",
       "\n",
       "    .dataframe tbody tr th {\n",
       "        vertical-align: top;\n",
       "    }\n",
       "\n",
       "    .dataframe thead th {\n",
       "        text-align: right;\n",
       "    }\n",
       "</style>\n",
       "<table border=\"1\" class=\"dataframe\">\n",
       "  <thead>\n",
       "    <tr style=\"text-align: right;\">\n",
       "      <th></th>\n",
       "      <th>0</th>\n",
       "      <th>1</th>\n",
       "    </tr>\n",
       "  </thead>\n",
       "  <tbody>\n",
       "    <tr>\n",
       "      <th>const</th>\n",
       "      <td>-34811.347791</td>\n",
       "      <td>-27716.751911</td>\n",
       "    </tr>\n",
       "    <tr>\n",
       "      <th>snow_depth</th>\n",
       "      <td>-478.304626</td>\n",
       "      <td>-170.309616</td>\n",
       "    </tr>\n",
       "    <tr>\n",
       "      <th>snowfall</th>\n",
       "      <td>-596.720054</td>\n",
       "      <td>341.817709</td>\n",
       "    </tr>\n",
       "    <tr>\n",
       "      <th>min_temperature</th>\n",
       "      <td>-50.473479</td>\n",
       "      <td>126.131275</td>\n",
       "    </tr>\n",
       "    <tr>\n",
       "      <th>max_temperature</th>\n",
       "      <td>327.507290</td>\n",
       "      <td>490.790078</td>\n",
       "    </tr>\n",
       "    <tr>\n",
       "      <th>precipitation</th>\n",
       "      <td>-9239.931841</td>\n",
       "      <td>-7121.263419</td>\n",
       "    </tr>\n",
       "    <tr>\n",
       "      <th>month</th>\n",
       "      <td>160.334198</td>\n",
       "      <td>438.745263</td>\n",
       "    </tr>\n",
       "    <tr>\n",
       "      <th>stations_in_service</th>\n",
       "      <td>75.797444</td>\n",
       "      <td>95.337262</td>\n",
       "    </tr>\n",
       "  </tbody>\n",
       "</table>\n",
       "</div>"
      ],
      "text/plain": [
       "                                0             1\n",
       "const               -34811.347791 -27716.751911\n",
       "snow_depth            -478.304626   -170.309616\n",
       "snowfall              -596.720054    341.817709\n",
       "min_temperature        -50.473479    126.131275\n",
       "max_temperature        327.507290    490.790078\n",
       "precipitation        -9239.931841  -7121.263419\n",
       "month                  160.334198    438.745263\n",
       "stations_in_service     75.797444     95.337262"
      ]
     },
     "execution_count": 163,
     "metadata": {},
     "output_type": "execute_result"
    }
   ],
   "source": [
    "results_weekdays.conf_int(alpha=0.05, cols=None)"
   ]
  },
  {
   "cell_type": "markdown",
   "metadata": {},
   "source": [
    "## Exercise 4: Dealing with collinearity (12 pts)\n",
    "\n",
    "Highly correlated predictors can make interpreting regression coefficients problematic (they do not contribute relevant information for the model). Let’s evaluate this in our dataset. Continue using weekdays as your main dataset.\n",
    "\n",
    "a) Check the variables used in Problem 3)a) to see if any of the predictors are highly correlated with one another. [2pt]\n"
   ]
  },
  {
   "cell_type": "code",
   "execution_count": 164,
   "metadata": {},
   "outputs": [],
   "source": [
    "# your code here\n",
    "X = df_weekdays[['snow_depth', 'snowfall', 'min_temperature', 'max_temperature', 'precipitation', 'month']].values\n",
    "snow_depth = df_weekdays['snow_depth'].values\n",
    "snowfall = df_weekdays['snowfall'].values\n",
    "min_temperature = df_weekdays['min_temperature'].values\n",
    "max_temperature = df_weekdays['max_temperature'].values\n",
    "precipitation = df_weekdays['precipitation'].values\n",
    "month = df_weekdays['month'].values"
   ]
  },
  {
   "cell_type": "code",
   "execution_count": 166,
   "metadata": {},
   "outputs": [
    {
     "data": {
      "text/plain": [
       "array([[ 1.        ,  0.26181138, -0.49318738, -0.47565302,  0.02294919,\n",
       "        -0.43944187],\n",
       "       [ 0.26181138,  1.        , -0.23784143, -0.23236838,  0.23724561,\n",
       "        -0.21512648],\n",
       "       [-0.49318738, -0.23784143,  1.        ,  0.96839992,  0.01344425,\n",
       "         0.38123565],\n",
       "       [-0.47565302, -0.23236838,  0.96839992,  1.        , -0.01189473,\n",
       "         0.32986579],\n",
       "       [ 0.02294919,  0.23724561,  0.01344425, -0.01189473,  1.        ,\n",
       "         0.00305873],\n",
       "       [-0.43944187, -0.21512648,  0.38123565,  0.32986579,  0.00305873,\n",
       "         1.        ]])"
      ]
     },
     "execution_count": 166,
     "metadata": {},
     "output_type": "execute_result"
    }
   ],
   "source": [
    "correlated = np.zeros([6, 6])\n",
    "for i in range(X.shape[1]):\n",
    "    for j in range(X.shape[1]):\n",
    "        correlated[i][j] = np.corrcoef(X[:, i], X[:, j])[0][1]\n",
    "        \n",
    "correlated"
   ]
  },
  {
   "cell_type": "markdown",
   "metadata": {},
   "source": [
    "--> Your answer here"
   ]
  },
  {
   "cell_type": "markdown",
   "metadata": {},
   "source": [
    "b) Are any of the predictors highly correlated? Are you surprised that these predictors are highly correlated, or can you think of a reason for why it makes sense that they should be correlated? [2pt]"
   ]
  },
  {
   "cell_type": "markdown",
   "metadata": {},
   "source": [
    "--> *Your answer here*\n",
    "\n",
    "Min and Max temperature is highly correlated. Reason is obvious: From spirng to summer, the max temperature will absolutely go up, so does the minimum temperature"
   ]
  },
  {
   "cell_type": "markdown",
   "metadata": {},
   "source": [
    "c) Fit your regression model, but this time omit the max or min temperature variable. Display the coefficients table for this model. [4pt]"
   ]
  },
  {
   "cell_type": "code",
   "execution_count": 167,
   "metadata": {},
   "outputs": [
    {
     "name": "stdout",
     "output_type": "stream",
     "text": [
      "                            OLS Regression Results                            \n",
      "==============================================================================\n",
      "Dep. Variable:                  trips   R-squared:                       0.768\n",
      "Model:                            OLS   Adj. R-squared:                  0.766\n",
      "Method:                 Least Squares   F-statistic:                     399.3\n",
      "Date:                Fri, 08 Apr 2022   Prob (F-statistic):          1.80e-188\n",
      "Time:                        15:50:21   Log-Likelihood:                -6142.1\n",
      "No. Observations:                 608   AIC:                         1.230e+04\n",
      "Df Residuals:                     602   BIC:                         1.232e+04\n",
      "Df Model:                           5                                         \n",
      "Covariance Type:            nonrobust                                         \n",
      "===================================================================================\n",
      "                      coef    std err          t      P>|t|      [0.025      0.975]\n",
      "-----------------------------------------------------------------------------------\n",
      "const           -5144.3465   1081.924     -4.755      0.000   -7269.151   -3019.542\n",
      "snow_depth       -279.1800     95.417     -2.926      0.004    -466.571     -91.789\n",
      "snowfall          -69.5130    291.324     -0.239      0.811    -641.649     502.623\n",
      "max_temperature   451.0544     14.304     31.533      0.000     422.962     479.147\n",
      "precipitation   -8241.0373    654.169    -12.598      0.000   -9525.767   -6956.307\n",
      "month             657.2826     80.493      8.166      0.000     499.201     815.364\n",
      "==============================================================================\n",
      "Omnibus:                       33.268   Durbin-Watson:                   0.756\n",
      "Prob(Omnibus):                  0.000   Jarque-Bera (JB):               90.520\n",
      "Skew:                           0.208   Prob(JB):                     2.21e-20\n",
      "Kurtosis:                       4.844   Cond. No.                         301.\n",
      "==============================================================================\n",
      "\n",
      "Notes:\n",
      "[1] Standard Errors assume that the covariance matrix of the errors is correctly specified.\n"
     ]
    }
   ],
   "source": [
    "# Your code here\n",
    "X = df_weekdays[['snow_depth', 'snowfall', 'max_temperature', 'precipitation', 'month']]\n",
    "Y = df_weekdays[['trips']]\n",
    "X = sm.add_constant(X)\n",
    "model_weekdays = sm.OLS(Y,X)\n",
    "results_weekdays = model_weekdays.fit()\n",
    "print(results_weekdays.summary())"
   ]
  },
  {
   "cell_type": "markdown",
   "metadata": {},
   "source": [
    "d) What is the coefficient of temperature in this new model? Is it very different from the temperature coefficient estimated in part 3)a)? Is it statistically significant? Explain your findings. [4pt]"
   ]
  },
  {
   "cell_type": "code",
   "execution_count": 168,
   "metadata": {},
   "outputs": [
    {
     "data": {
      "text/plain": [
       "const             -5144.346532\n",
       "snow_depth         -279.179971\n",
       "snowfall            -69.512964\n",
       "max_temperature     451.054381\n",
       "precipitation     -8241.037302\n",
       "month               657.282601\n",
       "dtype: float64"
      ]
     },
     "execution_count": 168,
     "metadata": {},
     "output_type": "execute_result"
    }
   ],
   "source": [
    "# Your code here\n",
    "# You can add more cells if you need them\n",
    "results_weekdays.params"
   ]
  },
  {
   "cell_type": "markdown",
   "metadata": {},
   "source": [
    "--> *Your answer here*\n",
    "\n",
    "The coefficient of Max temperature is 451. In (3a), coefficient of Max temperature is 460. These two are not very different. But it is still significant."
   ]
  },
  {
   "cell_type": "markdown",
   "metadata": {},
   "source": [
    "## Exercise 5: Exploring different models (38 pts)\n",
    "\n",
    "*Continue using weekdays as your dataset.*\n",
    "\n",
    "a) Construct a scatterplot of trips ~ month. Describe what you see. Does a linear relationship appear to be a good way of modeling how bikeshare count varies with month? [4pts]"
   ]
  },
  {
   "cell_type": "code",
   "execution_count": 169,
   "metadata": {},
   "outputs": [
    {
     "data": {
      "text/plain": [
       "<AxesSubplot:xlabel='month', ylabel='trips'>"
      ]
     },
     "execution_count": 169,
     "metadata": {},
     "output_type": "execute_result"
    },
    {
     "data": {
      "image/png": "[encoded data removed]",
      "text/plain": [
       "<Figure size 432x288 with 1 Axes>"
      ]
     },
     "metadata": {
      "needs_background": "light"
     },
     "output_type": "display_data"
    }
   ],
   "source": [
    "# Your code here\n",
    "sns.scatterplot(data=df_weekdays, x=\"month\", y=\"trips\")"
   ]
  },
  {
   "cell_type": "markdown",
   "metadata": {},
   "source": [
    "--> *Your answer here*\n",
    "\n",
    "We can find that trips are larger during July to November. No, the relationship between month and trips is more like a parabola."
   ]
  },
  {
   "cell_type": "markdown",
   "metadata": {},
   "source": [
    "b) Try out 3 different degrees of polynomial regression fits for modeling the relationship between trips and month. Do not do more than 3 models. Display all of them in the same plot (through subplots). Choose the subplot that appears to nicely capture the trends in the data. Be sure to print the $R^2$ or adjusted-$R^2$ for each subplot to help you with your decision. Explain your choice and include comments to explain your code. [8pts]"
   ]
  },
  {
   "cell_type": "code",
   "execution_count": 173,
   "metadata": {
    "scrolled": true
   },
   "outputs": [
    {
     "data": {
      "text/plain": [
       "<AxesSubplot:xlabel='month', ylabel='trips'>"
      ]
     },
     "execution_count": 173,
     "metadata": {},
     "output_type": "execute_result"
    },
    {
     "data": {
      "image/png": "[encoded data removed]",
      "text/plain": [
       "<Figure size 432x288 with 1 Axes>"
      ]
     },
     "metadata": {
      "needs_background": "light"
     },
     "output_type": "display_data"
    }
   ],
   "source": [
    "# Your code here\n",
    "# You can add more cells if you need them\n",
    "mod_x1 = smf.ols(formula='trips ~ month', data=df_weekdays)\n",
    "res = mod_x1.fit()\n",
    "sns.regplot(x='month', y='trips', data=df_weekdays, order =1)"
   ]
  },
  {
   "cell_type": "code",
   "execution_count": 175,
   "metadata": {},
   "outputs": [
    {
     "data": {
      "text/plain": [
       "<AxesSubplot:xlabel='month', ylabel='trips'>"
      ]
     },
     "execution_count": 175,
     "metadata": {},
     "output_type": "execute_result"
    },
    {
     "data": {
      "image/png": "[encoded data removed]",
      "text/plain": [
       "<Figure size 432x288 with 1 Axes>"
      ]
     },
     "metadata": {
      "needs_background": "light"
     },
     "output_type": "display_data"
    }
   ],
   "source": [
    "mod_x2 = smf.ols(formula='trips ~ month + I(month**2)', data=df_weekdays)\n",
    "res = mod_x2.fit()\n",
    "sns.regplot(x='month', y='trips', data=df_weekdays, order =2)"
   ]
  },
  {
   "cell_type": "code",
   "execution_count": 176,
   "metadata": {},
   "outputs": [
    {
     "data": {
      "text/plain": [
       "<AxesSubplot:xlabel='month', ylabel='trips'>"
      ]
     },
     "execution_count": 176,
     "metadata": {},
     "output_type": "execute_result"
    },
    {
     "data": {
      "image/png": "[encoded data removed]",
      "text/plain": [
       "<Figure size 432x288 with 1 Axes>"
      ]
     },
     "metadata": {
      "needs_background": "light"
     },
     "output_type": "display_data"
    }
   ],
   "source": [
    "mod_x3 = smf.ols(formula='trips ~ month + I(month**2)+I(month**3) ', data=df_weekdays)\n",
    "res = mod_x3.fit()\n",
    "sns.regplot(x='month', y='trips', data=df_weekdays, order =3)"
   ]
  },
  {
   "cell_type": "markdown",
   "metadata": {},
   "source": [
    "--> *Your answer here*\n",
    "\n",
    "From these figures, order 3 polynomial regression has the best fit"
   ]
  },
  {
   "cell_type": "markdown",
   "metadata": {},
   "source": [
    "c) Repeat b) to determine appropriate degree polynomials for modeling the relationship between trip and the other inputs: temperature (pick one), snow (also pick one) and precipitation (i.e., trips ~ temperature, trips ~ snow, and trips ~precipitation). Justify your choices and include comment on your code. (Note: your polynomials can have different degrees for different features) [16pts]\n"
   ]
  },
  {
   "cell_type": "markdown",
   "metadata": {},
   "source": [
    "### First: max_temperature"
   ]
  },
  {
   "cell_type": "code",
   "execution_count": 178,
   "metadata": {
    "scrolled": true
   },
   "outputs": [
    {
     "name": "stdout",
     "output_type": "stream",
     "text": [
      "                            OLS Regression Results                            \n",
      "==============================================================================\n",
      "Dep. Variable:                  trips   R-squared:                       0.662\n",
      "Model:                            OLS   Adj. R-squared:                  0.661\n",
      "Method:                 Least Squares   F-statistic:                     1187.\n",
      "Date:                Fri, 08 Apr 2022   Prob (F-statistic):          6.95e-145\n",
      "Time:                        16:10:30   Log-Likelihood:                -6256.9\n",
      "No. Observations:                 608   AIC:                         1.252e+04\n",
      "Df Residuals:                     606   BIC:                         1.253e+04\n",
      "Df Model:                           1                                         \n",
      "Covariance Type:            nonrobust                                         \n",
      "===================================================================================\n",
      "                      coef    std err          t      P>|t|      [0.025      0.975]\n",
      "-----------------------------------------------------------------------------------\n",
      "Intercept       -5817.3131    985.788     -5.901      0.000   -7753.289   -3881.337\n",
      "max_temperature   512.3791     14.871     34.455      0.000     483.174     541.584\n",
      "==============================================================================\n",
      "Omnibus:                       18.911   Durbin-Watson:                   0.823\n",
      "Prob(Omnibus):                  0.000   Jarque-Bera (JB):               24.298\n",
      "Skew:                           0.317   Prob(JB):                     5.29e-06\n",
      "Kurtosis:                       3.746   Cond. No.                         226.\n",
      "==============================================================================\n",
      "\n",
      "Notes:\n",
      "[1] Standard Errors assume that the covariance matrix of the errors is correctly specified.\n"
     ]
    }
   ],
   "source": [
    "# Your code here\n",
    "# You can add more cells if you need them\n",
    "mod_x1 = smf.ols(formula='trips ~ max_temperature ', data=df_weekdays)\n",
    "res = mod_x1.fit()\n",
    "print(res.summary())"
   ]
  },
  {
   "cell_type": "code",
   "execution_count": 179,
   "metadata": {
    "scrolled": true
   },
   "outputs": [
    {
     "name": "stdout",
     "output_type": "stream",
     "text": [
      "                            OLS Regression Results                            \n",
      "==============================================================================\n",
      "Dep. Variable:                  trips   R-squared:                       0.669\n",
      "Model:                            OLS   Adj. R-squared:                  0.668\n",
      "Method:                 Least Squares   F-statistic:                     612.5\n",
      "Date:                Fri, 08 Apr 2022   Prob (F-statistic):          3.83e-146\n",
      "Time:                        16:11:07   Log-Likelihood:                -6250.2\n",
      "No. Observations:                 608   AIC:                         1.251e+04\n",
      "Df Residuals:                     605   BIC:                         1.252e+04\n",
      "Df Model:                           2                                         \n",
      "Covariance Type:            nonrobust                                         \n",
      "===========================================================================================\n",
      "                              coef    std err          t      P>|t|      [0.025      0.975]\n",
      "-------------------------------------------------------------------------------------------\n",
      "Intercept               -1.512e+04   2714.995     -5.569      0.000   -2.05e+04   -9786.806\n",
      "max_temperature           865.9495     97.426      8.888      0.000     674.616    1057.283\n",
      "I(max_temperature ** 2)    -2.9817      0.812     -3.671      0.000      -4.577      -1.387\n",
      "==============================================================================\n",
      "Omnibus:                       10.725   Durbin-Watson:                   0.888\n",
      "Prob(Omnibus):                  0.005   Jarque-Bera (JB):               15.725\n",
      "Skew:                           0.136   Prob(JB):                     0.000385\n",
      "Kurtosis:                       3.739   Cond. No.                     4.72e+04\n",
      "==============================================================================\n",
      "\n",
      "Notes:\n",
      "[1] Standard Errors assume that the covariance matrix of the errors is correctly specified.\n",
      "[2] The condition number is large, 4.72e+04. This might indicate that there are\n",
      "strong multicollinearity or other numerical problems.\n"
     ]
    }
   ],
   "source": [
    "mod_x2 = smf.ols(formula='trips ~ max_temperature + I(max_temperature**2)', data=df_weekdays)\n",
    "res = mod_x2.fit()\n",
    "print(res.summary())"
   ]
  },
  {
   "cell_type": "code",
   "execution_count": 180,
   "metadata": {
    "scrolled": true
   },
   "outputs": [
    {
     "name": "stdout",
     "output_type": "stream",
     "text": [
      "                            OLS Regression Results                            \n",
      "==============================================================================\n",
      "Dep. Variable:                  trips   R-squared:                       0.684\n",
      "Model:                            OLS   Adj. R-squared:                  0.683\n",
      "Method:                 Least Squares   F-statistic:                     435.9\n",
      "Date:                Fri, 08 Apr 2022   Prob (F-statistic):          1.22e-150\n",
      "Time:                        16:11:27   Log-Likelihood:                -6236.4\n",
      "No. Observations:                 608   AIC:                         1.248e+04\n",
      "Df Residuals:                     604   BIC:                         1.250e+04\n",
      "Df Model:                           3                                         \n",
      "Covariance Type:            nonrobust                                         \n",
      "===========================================================================================\n",
      "                              coef    std err          t      P>|t|      [0.025      0.975]\n",
      "-------------------------------------------------------------------------------------------\n",
      "Intercept                1.638e+04   6517.320      2.514      0.012    3584.754    2.92e+04\n",
      "max_temperature         -1068.0024    377.586     -2.829      0.005   -1809.542    -326.462\n",
      "I(max_temperature ** 2)    32.8667      6.819      4.820      0.000      19.475      46.258\n",
      "I(max_temperature ** 3)    -0.2056      0.039     -5.293      0.000      -0.282      -0.129\n",
      "==============================================================================\n",
      "Omnibus:                       11.678   Durbin-Watson:                   0.913\n",
      "Prob(Omnibus):                  0.003   Jarque-Bera (JB):               19.531\n",
      "Skew:                           0.083   Prob(JB):                     5.74e-05\n",
      "Kurtosis:                       3.862   Cond. No.                     9.21e+06\n",
      "==============================================================================\n",
      "\n",
      "Notes:\n",
      "[1] Standard Errors assume that the covariance matrix of the errors is correctly specified.\n",
      "[2] The condition number is large, 9.21e+06. This might indicate that there are\n",
      "strong multicollinearity or other numerical problems.\n"
     ]
    }
   ],
   "source": [
    "mod_x3 = smf.ols(formula='trips ~ max_temperature + I(max_temperature**2)+I(max_temperature**3) ', data=df_weekdays)\n",
    "res = mod_x3.fit()\n",
    "print(res.summary())"
   ]
  },
  {
   "cell_type": "markdown",
   "metadata": {},
   "source": [
    "From the sumary, Degree 4 is the best"
   ]
  },
  {
   "cell_type": "markdown",
   "metadata": {},
   "source": [
    "### Second: snow fall"
   ]
  },
  {
   "cell_type": "code",
   "execution_count": 181,
   "metadata": {
    "scrolled": true
   },
   "outputs": [
    {
     "name": "stdout",
     "output_type": "stream",
     "text": [
      "                            OLS Regression Results                            \n",
      "==============================================================================\n",
      "Dep. Variable:                  trips   R-squared:                       0.084\n",
      "Model:                            OLS   Adj. R-squared:                  0.082\n",
      "Method:                 Least Squares   F-statistic:                     55.38\n",
      "Date:                Fri, 08 Apr 2022   Prob (F-statistic):           3.42e-13\n",
      "Time:                        16:13:19   Log-Likelihood:                -6560.1\n",
      "No. Observations:                 608   AIC:                         1.312e+04\n",
      "Df Residuals:                     606   BIC:                         1.313e+04\n",
      "Df Model:                           1                                         \n",
      "Covariance Type:            nonrobust                                         \n",
      "==============================================================================\n",
      "                 coef    std err          t      P>|t|      [0.025      0.975]\n",
      "------------------------------------------------------------------------------\n",
      "Intercept    2.72e+04    482.607     56.364      0.000    2.63e+04    2.81e+04\n",
      "snowfall   -3970.0487    533.484     -7.442      0.000   -5017.750   -2922.347\n",
      "==============================================================================\n",
      "Omnibus:                      101.791   Durbin-Watson:                   0.395\n",
      "Prob(Omnibus):                  0.000   Jarque-Bera (JB):               27.167\n",
      "Skew:                          -0.205   Prob(JB):                     1.26e-06\n",
      "Kurtosis:                       2.049   Cond. No.                         1.20\n",
      "==============================================================================\n",
      "\n",
      "Notes:\n",
      "[1] Standard Errors assume that the covariance matrix of the errors is correctly specified.\n"
     ]
    }
   ],
   "source": [
    "mod_x1 = smf.ols(formula='trips ~ snowfall ', data=df_weekdays)\n",
    "res = mod_x1.fit()\n",
    "print(res.summary())"
   ]
  },
  {
   "cell_type": "code",
   "execution_count": 182,
   "metadata": {
    "scrolled": true
   },
   "outputs": [
    {
     "name": "stdout",
     "output_type": "stream",
     "text": [
      "                            OLS Regression Results                            \n",
      "==============================================================================\n",
      "Dep. Variable:                  trips   R-squared:                       0.109\n",
      "Model:                            OLS   Adj. R-squared:                  0.106\n",
      "Method:                 Least Squares   F-statistic:                     36.94\n",
      "Date:                Fri, 08 Apr 2022   Prob (F-statistic):           7.32e-16\n",
      "Time:                        16:13:32   Log-Likelihood:                -6551.6\n",
      "No. Observations:                 608   AIC:                         1.311e+04\n",
      "Df Residuals:                     605   BIC:                         1.312e+04\n",
      "Df Model:                           2                                         \n",
      "Covariance Type:            nonrobust                                         \n",
      "====================================================================================\n",
      "                       coef    std err          t      P>|t|      [0.025      0.975]\n",
      "------------------------------------------------------------------------------------\n",
      "Intercept         2.739e+04    478.534     57.238      0.000    2.65e+04    2.83e+04\n",
      "snowfall         -9789.1908   1505.151     -6.504      0.000   -1.27e+04   -6833.236\n",
      "I(snowfall ** 2)   759.0688    183.930      4.127      0.000     397.849    1120.288\n",
      "==============================================================================\n",
      "Omnibus:                       77.268   Durbin-Watson:                   0.425\n",
      "Prob(Omnibus):                  0.000   Jarque-Bera (JB):               25.619\n",
      "Skew:                          -0.238   Prob(JB):                     2.73e-06\n",
      "Kurtosis:                       2.114   Cond. No.                         23.9\n",
      "==============================================================================\n",
      "\n",
      "Notes:\n",
      "[1] Standard Errors assume that the covariance matrix of the errors is correctly specified.\n"
     ]
    }
   ],
   "source": [
    "mod_x2 = smf.ols(formula='trips ~ snowfall + I(snowfall**2)', data=df_weekdays)\n",
    "res = mod_x2.fit()\n",
    "print(res.summary())"
   ]
  },
  {
   "cell_type": "code",
   "execution_count": 183,
   "metadata": {
    "scrolled": true
   },
   "outputs": [
    {
     "name": "stdout",
     "output_type": "stream",
     "text": [
      "                            OLS Regression Results                            \n",
      "==============================================================================\n",
      "Dep. Variable:                  trips   R-squared:                       0.117\n",
      "Model:                            OLS   Adj. R-squared:                  0.112\n",
      "Method:                 Least Squares   F-statistic:                     26.58\n",
      "Date:                Fri, 08 Apr 2022   Prob (F-statistic):           3.70e-16\n",
      "Time:                        16:13:44   Log-Likelihood:                -6549.0\n",
      "No. Observations:                 608   AIC:                         1.311e+04\n",
      "Df Residuals:                     604   BIC:                         1.312e+04\n",
      "Df Model:                           3                                         \n",
      "Covariance Type:            nonrobust                                         \n",
      "====================================================================================\n",
      "                       coef    std err          t      P>|t|      [0.025      0.975]\n",
      "------------------------------------------------------------------------------------\n",
      "Intercept         2.746e+04    477.842     57.471      0.000    2.65e+04    2.84e+04\n",
      "snowfall         -1.649e+04   3267.894     -5.047      0.000   -2.29e+04   -1.01e+04\n",
      "I(snowfall ** 2)  3067.3959   1016.163      3.019      0.003    1071.753    5063.039\n",
      "I(snowfall ** 3)  -164.7340     71.329     -2.309      0.021    -304.818     -24.650\n",
      "==============================================================================\n",
      "Omnibus:                       70.188   Durbin-Watson:                   0.444\n",
      "Prob(Omnibus):                  0.000   Jarque-Bera (JB):               25.076\n",
      "Skew:                          -0.248   Prob(JB):                     3.59e-06\n",
      "Kurtosis:                       2.138   Cond. No.                         513.\n",
      "==============================================================================\n",
      "\n",
      "Notes:\n",
      "[1] Standard Errors assume that the covariance matrix of the errors is correctly specified.\n"
     ]
    }
   ],
   "source": [
    "mod_x3 = smf.ols(formula='trips ~ snowfall + I(snowfall**2)+I(snowfall**3) ', data=df_weekdays)\n",
    "res = mod_x3.fit()\n",
    "print(res.summary())"
   ]
  },
  {
   "cell_type": "markdown",
   "metadata": {},
   "source": [
    "It's hard to get the relationship between trips and snowfall"
   ]
  },
  {
   "cell_type": "markdown",
   "metadata": {},
   "source": [
    "### Third: precipitation"
   ]
  },
  {
   "cell_type": "code",
   "execution_count": 184,
   "metadata": {
    "scrolled": true
   },
   "outputs": [
    {
     "name": "stdout",
     "output_type": "stream",
     "text": [
      "                            OLS Regression Results                            \n",
      "==============================================================================\n",
      "Dep. Variable:                  trips   R-squared:                       0.071\n",
      "Model:                            OLS   Adj. R-squared:                  0.069\n",
      "Method:                 Least Squares   F-statistic:                     46.04\n",
      "Date:                Fri, 08 Apr 2022   Prob (F-statistic):           2.77e-11\n",
      "Time:                        16:15:02   Log-Likelihood:                -6564.4\n",
      "No. Observations:                 608   AIC:                         1.313e+04\n",
      "Df Residuals:                     606   BIC:                         1.314e+04\n",
      "Df Model:                           1                                         \n",
      "Covariance Type:            nonrobust                                         \n",
      "=================================================================================\n",
      "                    coef    std err          t      P>|t|      [0.025      0.975]\n",
      "---------------------------------------------------------------------------------\n",
      "Intercept      2.776e+04    507.285     54.718      0.000    2.68e+04    2.88e+04\n",
      "precipitation -8589.3157   1265.915     -6.785      0.000   -1.11e+04   -6103.203\n",
      "==============================================================================\n",
      "Omnibus:                       92.157   Durbin-Watson:                   0.202\n",
      "Prob(Omnibus):                  0.000   Jarque-Bera (JB):               28.804\n",
      "Skew:                          -0.268   Prob(JB):                     5.56e-07\n",
      "Kurtosis:                       2.078   Cond. No.                         2.69\n",
      "==============================================================================\n",
      "\n",
      "Notes:\n",
      "[1] Standard Errors assume that the covariance matrix of the errors is correctly specified.\n"
     ]
    }
   ],
   "source": [
    "mod_x1 = smf.ols(formula='trips ~ precipitation', data=df_weekdays)\n",
    "res = mod_x1.fit()\n",
    "print(res.summary())"
   ]
  },
  {
   "cell_type": "code",
   "execution_count": 185,
   "metadata": {
    "scrolled": true
   },
   "outputs": [
    {
     "name": "stdout",
     "output_type": "stream",
     "text": [
      "                            OLS Regression Results                            \n",
      "==============================================================================\n",
      "Dep. Variable:                  trips   R-squared:                       0.082\n",
      "Model:                            OLS   Adj. R-squared:                  0.079\n",
      "Method:                 Least Squares   F-statistic:                     26.94\n",
      "Date:                Fri, 08 Apr 2022   Prob (F-statistic):           6.20e-12\n",
      "Time:                        16:15:14   Log-Likelihood:                -6560.7\n",
      "No. Observations:                 608   AIC:                         1.313e+04\n",
      "Df Residuals:                     605   BIC:                         1.314e+04\n",
      "Df Model:                           2                                         \n",
      "Covariance Type:            nonrobust                                         \n",
      "=========================================================================================\n",
      "                            coef    std err          t      P>|t|      [0.025      0.975]\n",
      "-----------------------------------------------------------------------------------------\n",
      "Intercept              2.807e+04    517.315     54.254      0.000    2.71e+04    2.91e+04\n",
      "precipitation         -1.351e+04   2208.241     -6.118      0.000   -1.78e+04   -9173.559\n",
      "I(precipitation ** 2)  2031.7770    748.945      2.713      0.007     560.930    3502.624\n",
      "==============================================================================\n",
      "Omnibus:                       79.549   Durbin-Watson:                   0.188\n",
      "Prob(Omnibus):                  0.000   Jarque-Bera (JB):               27.492\n",
      "Skew:                          -0.273   Prob(JB):                     1.07e-06\n",
      "Kurtosis:                       2.113   Cond. No.                         5.84\n",
      "==============================================================================\n",
      "\n",
      "Notes:\n",
      "[1] Standard Errors assume that the covariance matrix of the errors is correctly specified.\n"
     ]
    }
   ],
   "source": [
    "mod_x2 = smf.ols(formula='trips ~ precipitation + I(precipitation**2)', data=df_weekdays)\n",
    "res = mod_x2.fit()\n",
    "print(res.summary())"
   ]
  },
  {
   "cell_type": "code",
   "execution_count": 186,
   "metadata": {
    "scrolled": true
   },
   "outputs": [
    {
     "name": "stdout",
     "output_type": "stream",
     "text": [
      "                            OLS Regression Results                            \n",
      "==============================================================================\n",
      "Dep. Variable:                  trips   R-squared:                       0.098\n",
      "Model:                            OLS   Adj. R-squared:                  0.094\n",
      "Method:                 Least Squares   F-statistic:                     21.89\n",
      "Date:                Fri, 08 Apr 2022   Prob (F-statistic):           1.81e-13\n",
      "Time:                        16:15:32   Log-Likelihood:                -6555.3\n",
      "No. Observations:                 608   AIC:                         1.312e+04\n",
      "Df Residuals:                     604   BIC:                         1.314e+04\n",
      "Df Model:                           3                                         \n",
      "Covariance Type:            nonrobust                                         \n",
      "=========================================================================================\n",
      "                            coef    std err          t      P>|t|      [0.025      0.975]\n",
      "-----------------------------------------------------------------------------------------\n",
      "Intercept              2.849e+04    528.884     53.868      0.000    2.75e+04    2.95e+04\n",
      "precipitation          -2.77e+04   4821.555     -5.745      0.000   -3.72e+04   -1.82e+04\n",
      "I(precipitation ** 2)  1.625e+04   4367.206      3.721      0.000    7673.543    2.48e+04\n",
      "I(precipitation ** 3) -2370.3215    717.432     -3.304      0.001   -3779.285    -961.358\n",
      "==============================================================================\n",
      "Omnibus:                       69.305   Durbin-Watson:                   0.177\n",
      "Prob(Omnibus):                  0.000   Jarque-Bera (JB):               26.967\n",
      "Skew:                          -0.292   Prob(JB):                     1.39e-06\n",
      "Kurtosis:                       2.149   Cond. No.                         70.7\n",
      "==============================================================================\n",
      "\n",
      "Notes:\n",
      "[1] Standard Errors assume that the covariance matrix of the errors is correctly specified.\n"
     ]
    }
   ],
   "source": [
    "mod_x2 = smf.ols(formula='trips ~ precipitation + I(precipitation**2)+I(precipitation**3) ', data=df_weekdays)\n",
    "res = mod_x2.fit()\n",
    "print(res.summary())"
   ]
  },
  {
   "cell_type": "markdown",
   "metadata": {},
   "source": [
    "Still hard to find relationship and fit trips to precipitation"
   ]
  },
  {
   "cell_type": "markdown",
   "metadata": {},
   "source": [
    "--> *Your answer here*"
   ]
  },
  {
   "cell_type": "markdown",
   "metadata": {},
   "source": [
    "d) Repeat 5)c) with the weekends dataset. Do you notice any differences? Justify your choices and include comment on your code. [10pts]"
   ]
  },
  {
   "cell_type": "code",
   "execution_count": 14,
   "metadata": {
    "scrolled": true
   },
   "outputs": [
    {
     "name": "stdout",
     "output_type": "stream",
     "text": [
      "                            OLS Regression Results                            \n",
      "==============================================================================\n",
      "Dep. Variable:                  trips   R-squared:                       0.106\n",
      "Model:                            OLS   Adj. R-squared:                  0.095\n",
      "Method:                 Least Squares   F-statistic:                     9.501\n",
      "Date:                Mon, 11 Apr 2022   Prob (F-statistic):           5.92e-06\n",
      "Time:                        16:07:09   Log-Likelihood:                -2588.3\n",
      "No. Observations:                 244   AIC:                             5185.\n",
      "Df Residuals:                     240   BIC:                             5198.\n",
      "Df Model:                           3                                         \n",
      "Covariance Type:            nonrobust                                         \n",
      "=========================================================================================\n",
      "                            coef    std err          t      P>|t|      [0.025      0.975]\n",
      "-----------------------------------------------------------------------------------------\n",
      "Intercept              2.285e+04    706.534     32.341      0.000    2.15e+04    2.42e+04\n",
      "precipitation          -2.64e+04   1.08e+04     -2.437      0.016   -4.77e+04   -5062.845\n",
      "I(precipitation ** 2)  2.237e+04   1.83e+04      1.224      0.222   -1.36e+04    5.84e+04\n",
      "I(precipitation ** 3) -6982.5778   6931.092     -1.007      0.315   -2.06e+04    6670.964\n",
      "==============================================================================\n",
      "Omnibus:                       35.614   Durbin-Watson:                   0.263\n",
      "Prob(Omnibus):                  0.000   Jarque-Bera (JB):               12.248\n",
      "Skew:                          -0.287   Prob(JB):                      0.00219\n",
      "Kurtosis:                       2.064   Cond. No.                         36.9\n",
      "==============================================================================\n",
      "\n",
      "Notes:\n",
      "[1] Standard Errors assume that the covariance matrix of the errors is correctly specified.\n"
     ]
    }
   ],
   "source": [
    "# Your code here\n",
    "# You can add more cells if you need them\n",
    "# To save time, useing function to do this\n",
    "def get_R_squared(dataset, input_formula):\n",
    "    mod = smf.ols(formula=input_formula, data=dataset)\n",
    "    res = mod.fit()\n",
    "    print(res.summary())\n",
    "    \n",
    "get_R_squared(df_weekends, 'trips ~ precipitation + I(precipitation**2)+I(precipitation**3)')"
   ]
  },
  {
   "cell_type": "markdown",
   "metadata": {},
   "source": [
    "--> *Your answer here*\n",
    "\n",
    "We can know that the weedends' coef are more larger than weekdays. And other varibles stay same conditions."
   ]
  }
 ],
 "metadata": {
  "kernelspec": {
   "display_name": "Python 3 (ipykernel)",
   "language": "python",
   "name": "python3"
  },
  "language_info": {
   "codemirror_mode": {
    "name": "ipython",
    "version": 3
   },
   "file_extension": ".py",
   "mimetype": "text/x-python",
   "name": "python",
   "nbconvert_exporter": "python",
   "pygments_lexer": "ipython3",
   "version": "3.7.10"
  }
 },
 "nbformat": 4,
 "nbformat_minor": 4
}
